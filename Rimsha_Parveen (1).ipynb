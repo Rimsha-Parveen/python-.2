{
  "nbformat": 4,
  "nbformat_minor": 0,
  "metadata": {
    "colab": {
      "provenance": []
    },
    "kernelspec": {
      "name": "python3",
      "display_name": "Python 3"
    },
    "language_info": {
      "name": "python"
    }
  },
  "cells": [
    {
      "cell_type": "code",
      "source": [
        "# Build Intermediate Level Calculator\n",
        "\n",
        "num1 = float(input(\"Enter First Number: \"))\n",
        "num2 = float(input(\"Enter Second Number: \"))\n",
        "\n",
        "operation = input(\"Enter the Operation (+, -, *, /): \")\n",
        "\n",
        "if operation == \"+\":\n",
        "    result = num1 + num2\n",
        "elif operation == \"-\":\n",
        "    result = num1 - num2\n",
        "elif operation == \"*\":\n",
        "    result = num1 * num2\n",
        "elif operation == \"/\":\n",
        "    if num2 == 0:\n",
        "        result = \"Error: Division by Zero\"\n",
        "    else:\n",
        "        result = num1 / num2\n",
        "else:\n",
        "    result = \"Invalid Operation\"\n",
        "\n",
        "print(\"Result is:\", result)\n",
        "\n",
        "\n"
      ],
      "metadata": {
        "id": "Fq2jhnzLNuhH"
      },
      "execution_count": null,
      "outputs": []
    }
  ]
}